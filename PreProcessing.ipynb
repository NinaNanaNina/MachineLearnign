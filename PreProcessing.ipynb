{
 "cells": [
  {
   "cell_type": "code",
   "execution_count": 1,
   "id": "dac4c318",
   "metadata": {},
   "outputs": [],
   "source": [
    "#importing libraries\n",
    "#Numpy: computing large multidimensional array and Matrics\n",
    "#Matplotlib: data visualization\n",
    "#Pandas: importing and managing Dataset \n",
    "\n",
    "import numpy as np\n",
    "import matplotlib.pyplot as mpt\n",
    "import pandas as pd\n",
    "from sklearn.impute import SimpleImputer\n",
    "imputer=SimpleImputer(missing_values=np.nan,strategy='mean')\n",
    "#Error: cannot import name 'Imputer' from 'sklearn.preprocessing' - Fixed: \n"
   ]
  },
  {
   "cell_type": "code",
   "execution_count": 2,
   "id": "0e06563d",
   "metadata": {
    "scrolled": false
   },
   "outputs": [],
   "source": [
    "#import dataset \n",
    "data_set=pd.read_csv('Payment.PaymentTransaction.csv', encoding='unicode_escape') # UnicodeDecodeError: 'utf-8' codec can't decode byte 0xd6 in position 605: invalid continuation byte\n",
    "# error\n",
    "#solve: data = pd.read_csv(filename, encoding= 'unicode_escape')\n"
   ]
  },
  {
   "cell_type": "code",
   "execution_count": 3,
   "id": "0133066d",
   "metadata": {},
   "outputs": [],
   "source": [
    "#print fuction just show dataset\n",
    "#print(data_set)"
   ]
  },
  {
   "cell_type": "code",
   "execution_count": 4,
   "id": "591e6f70",
   "metadata": {},
   "outputs": [],
   "source": [
    "#Extracting Dependent and independent Variables\n",
    "#using .iloc[] method of pandas\n",
    "X=data_set.iloc[:,:].values\n",
    "Y=data_set.iloc[:,:].values\n",
    "#print(X,Y)"
   ]
  },
  {
   "cell_type": "code",
   "execution_count": 9,
   "id": "84bfb838",
   "metadata": {},
   "outputs": [],
   "source": [
    "#spliting the dataset into training and test/ train_Test_spilit is method of sklearn library\n",
    "#x_train: feature for the training data\n",
    "#x_test: Feature for testing data\n",
    "#y_train: depondent variables for training data\n",
    "#Y_test: independent Variable for Testing Data\n",
    "from sklearn.model_selection  import train_test_split\n",
    "X_train,X_test,Y_train,Y_test=train_test_split(X,Y,test_size=0.3,random_state=15)"
   ]
  },
  {
   "cell_type": "code",
   "execution_count": null,
   "id": "2e006eb5",
   "metadata": {},
   "outputs": [],
   "source": []
  },
  {
   "cell_type": "code",
   "execution_count": null,
   "id": "6b78717f",
   "metadata": {},
   "outputs": [],
   "source": []
  }
 ],
 "metadata": {
  "kernelspec": {
   "display_name": "Python 3 (ipykernel)",
   "language": "python",
   "name": "python3"
  },
  "language_info": {
   "codemirror_mode": {
    "name": "ipython",
    "version": 3
   },
   "file_extension": ".py",
   "mimetype": "text/x-python",
   "name": "python",
   "nbconvert_exporter": "python",
   "pygments_lexer": "ipython3",
   "version": "3.9.7"
  }
 },
 "nbformat": 4,
 "nbformat_minor": 5
}
